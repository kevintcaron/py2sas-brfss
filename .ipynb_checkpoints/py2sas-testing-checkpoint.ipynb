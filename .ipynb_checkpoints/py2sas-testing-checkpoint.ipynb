{
 "cells": [
  {
   "cell_type": "code",
   "execution_count": 2,
   "id": "c6487cd4-b9dc-4fba-b455-0d840a5c9544",
   "metadata": {},
   "outputs": [],
   "source": [
    "import saspy\n",
    "import pandas as pd"
   ]
  },
  {
   "cell_type": "code",
   "execution_count": 15,
   "id": "42e43dd0-86e7-4f45-bd98-d45e125623f1",
   "metadata": {},
   "outputs": [
    {
     "name": "stdout",
     "output_type": "stream",
     "text": [
      "C:\\Users\\wrn0\\.conda\\envs\\p2s_env\\Lib\\site-packages\\saspy\\__init__.py\n"
     ]
    }
   ],
   "source": [
    "print(saspy.__file__)"
   ]
  },
  {
   "cell_type": "code",
   "execution_count": 16,
   "id": "4dcbef30-6721-4667-be5f-60fe37e66305",
   "metadata": {},
   "outputs": [
    {
     "name": "stdout",
     "output_type": "stream",
     "text": [
      "Using SAS Config named: winlocal\n",
      "SAS Connection established. Subprocess id is 26268\n",
      "\n"
     ]
    }
   ],
   "source": [
    "# sas = saspy.SASsession(cfgname='IOM', cfgfile=r'')\n",
    "sas = saspy.SASsession(cfgfile='C:/Users/wrn0/GitHub/py2sas-brfss/sascfg_personal.py')"
   ]
  },
  {
   "cell_type": "code",
   "execution_count": null,
   "id": "c92dd0fa-d109-414e-98c4-b75415cf8425",
   "metadata": {},
   "outputs": [],
   "source": []
  }
 ],
 "metadata": {
  "kernelspec": {
   "display_name": "Python 3 (ipykernel)",
   "language": "python",
   "name": "python3"
  },
  "language_info": {
   "codemirror_mode": {
    "name": "ipython",
    "version": 3
   },
   "file_extension": ".py",
   "mimetype": "text/x-python",
   "name": "python",
   "nbconvert_exporter": "python",
   "pygments_lexer": "ipython3",
   "version": "3.12.2"
  }
 },
 "nbformat": 4,
 "nbformat_minor": 5
}
